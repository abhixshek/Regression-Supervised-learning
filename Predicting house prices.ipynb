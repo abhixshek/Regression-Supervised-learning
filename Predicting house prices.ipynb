{
 "cells": [
  {
   "cell_type": "code",
   "execution_count": 1,
   "id": "5ec1c386-5afc-49b1-ab1c-2075ac755f9b",
   "metadata": {},
   "outputs": [],
   "source": [
    "# setup\n",
    "import numpy as np\n",
    "import pandas as pd\n",
    "\n",
    "import matplotlib.pyplot as plt\n",
    "\n",
    "from tensorflow import keras\n",
    "from tensorflow.keras import layers"
   ]
  },
  {
   "cell_type": "markdown",
   "id": "ef8bfd6e-6022-43d0-be72-33eccdb3d345",
   "metadata": {},
   "source": [
    "# Predicting house prices: A regression problem"
   ]
  },
  {
   "cell_type": "code",
   "execution_count": 2,
   "id": "4b4d0d9e-e2b0-4d21-ab31-cebfac55fc68",
   "metadata": {},
   "outputs": [],
   "source": [
    "from tensorflow.keras.datasets import boston_housing"
   ]
  },
  {
   "cell_type": "code",
   "execution_count": 3,
   "id": "b957c4cd-b570-4775-aaa8-cb2f8ee557af",
   "metadata": {},
   "outputs": [],
   "source": [
    "(train_data, train_targets), (test_data, test_targets) = boston_housing.load_data()"
   ]
  },
  {
   "cell_type": "markdown",
   "id": "f105ebe8-14c4-4b1b-adea-1948fa09ee01",
   "metadata": {},
   "source": [
    "```\n",
    "Samples contain 13 attributes of houses at different locations around the\n",
    "Boston suburbs in the late 1970s. Targets are the median values of\n",
    "the houses at a location (in k$)\n",
    "```"
   ]
  },
  {
   "cell_type": "code",
   "execution_count": 4,
   "id": "eb6fdf34-e34e-4171-ac01-c32f9a620716",
   "metadata": {},
   "outputs": [
    {
     "data": {
      "text/plain": [
       "(404, 13)"
      ]
     },
     "execution_count": 4,
     "metadata": {},
     "output_type": "execute_result"
    }
   ],
   "source": [
    "train_data.shape"
   ]
  },
  {
   "cell_type": "code",
   "execution_count": 5,
   "id": "6f4b2b99-d22f-4fae-974a-fe6006496cc4",
   "metadata": {},
   "outputs": [
    {
     "data": {
      "text/plain": [
       "(102, 13)"
      ]
     },
     "execution_count": 5,
     "metadata": {},
     "output_type": "execute_result"
    }
   ],
   "source": [
    "test_data.shape"
   ]
  },
  {
   "cell_type": "code",
   "execution_count": 6,
   "id": "194fd95e-b2f9-43d3-8ac0-7548902d29f7",
   "metadata": {},
   "outputs": [
    {
     "data": {
      "text/plain": [
       "numpy.ndarray"
      ]
     },
     "execution_count": 6,
     "metadata": {},
     "output_type": "execute_result"
    }
   ],
   "source": [
    "type(train_data)"
   ]
  },
  {
   "cell_type": "code",
   "execution_count": 7,
   "id": "6e8476f0-a08f-42fd-ae2e-44608dde3c9c",
   "metadata": {},
   "outputs": [
    {
     "data": {
      "text/plain": [
       "array([  1.23247,   0.     ,   8.14   ,   0.     ,   0.538  ,   6.142  ,\n",
       "        91.7    ,   3.9769 ,   4.     , 307.     ,  21.     , 396.9    ,\n",
       "        18.72   ])"
      ]
     },
     "execution_count": 7,
     "metadata": {},
     "output_type": "execute_result"
    }
   ],
   "source": [
    "train_data[0]"
   ]
  },
  {
   "cell_type": "markdown",
   "id": "1caf12de-e077-4923-b808-57c1ea3e691a",
   "metadata": {},
   "source": [
    "So, we have 13 numerical features, each with a different scale. "
   ]
  },
  {
   "cell_type": "code",
   "execution_count": 8,
   "id": "78579fbe-1267-443d-8e85-3dc46808eac4",
   "metadata": {},
   "outputs": [
    {
     "data": {
      "text/plain": [
       "array([15.2, 42.3, 50. , 21.1, 17.7])"
      ]
     },
     "execution_count": 8,
     "metadata": {},
     "output_type": "execute_result"
    }
   ],
   "source": [
    "train_targets[:5]"
   ]
  },
  {
   "cell_type": "code",
   "execution_count": 9,
   "id": "cf367dbe-c3a2-429b-8b75-9ed0131c647b",
   "metadata": {},
   "outputs": [
    {
     "data": {
      "text/plain": [
       "(404,)"
      ]
     },
     "execution_count": 9,
     "metadata": {},
     "output_type": "execute_result"
    }
   ],
   "source": [
    "train_targets.shape"
   ]
  },
  {
   "cell_type": "code",
   "execution_count": 10,
   "id": "280d4ecc-a71f-4519-96ab-7cb8db761181",
   "metadata": {},
   "outputs": [
    {
     "data": {
      "text/plain": [
       "count    404.000000\n",
       "mean      22.395050\n",
       "std        9.210442\n",
       "min        5.000000\n",
       "25%       16.675000\n",
       "50%       20.750000\n",
       "75%       24.800000\n",
       "max       50.000000\n",
       "dtype: float64"
      ]
     },
     "execution_count": 10,
     "metadata": {},
     "output_type": "execute_result"
    }
   ],
   "source": [
    "pd.Series(train_targets).describe()"
   ]
  },
  {
   "cell_type": "markdown",
   "id": "712af7ea-b8f1-423b-be7c-b570e9ae35a8",
   "metadata": {},
   "source": [
    "## Preparing the data:"
   ]
  },
  {
   "cell_type": "code",
   "execution_count": 11,
   "id": "c3ce95a3-e044-4bc6-98f7-e3124d38e4f8",
   "metadata": {},
   "outputs": [],
   "source": [
    "mean = train_data.mean(axis=0)\n",
    "train_data -= mean\n",
    "std = train_data.std(axis=0)\n",
    "train_data /= std"
   ]
  },
  {
   "cell_type": "code",
   "execution_count": 12,
   "id": "4381a304-1f09-4c84-a320-933dd08b12ed",
   "metadata": {},
   "outputs": [
    {
     "data": {
      "text/plain": [
       "array([[-0.27224633, -0.48361547, -0.43576161, ...,  1.14850044,\n",
       "         0.44807713,  0.8252202 ],\n",
       "       [-0.40342651,  2.99178419, -1.33391162, ..., -1.71818909,\n",
       "         0.43190599, -1.32920239],\n",
       "       [ 0.1249402 , -0.48361547,  1.0283258 , ...,  0.78447637,\n",
       "         0.22061726, -1.30850006],\n",
       "       ...,\n",
       "       [-0.40202987,  0.99079651, -0.7415148 , ..., -0.71712291,\n",
       "         0.07943894, -0.67776904],\n",
       "       [-0.17292018, -0.48361547,  1.24588095, ..., -1.71818909,\n",
       "        -0.98764362,  0.42083466],\n",
       "       [-0.40422614,  2.04394792, -1.20161456, ..., -1.30866202,\n",
       "         0.23317118, -1.15392266]])"
      ]
     },
     "execution_count": 12,
     "metadata": {},
     "output_type": "execute_result"
    }
   ],
   "source": [
    "train_data"
   ]
  },
  {
   "cell_type": "code",
   "execution_count": 13,
   "id": "1e8c4a7d-7f27-40d6-a9e9-6068b888df8a",
   "metadata": {},
   "outputs": [],
   "source": [
    "test_data -= mean\n",
    "test_data /= std"
   ]
  },
  {
   "cell_type": "markdown",
   "id": "2b77ddbb-e7b2-4319-a0e0-1ad6c6d75e08",
   "metadata": {},
   "source": [
    "## Building and training the model"
   ]
  },
  {
   "cell_type": "markdown",
   "id": "5876dddf-20c8-4ea5-ab73-e3103b73e1bc",
   "metadata": {},
   "source": [
    "we’ll use a very small model with two intermediate layers, each with 64 units."
   ]
  },
  {
   "cell_type": "code",
   "execution_count": 14,
   "id": "b80763a6-43d7-4a33-9f65-44b3a01c96e8",
   "metadata": {},
   "outputs": [],
   "source": [
    "def build_model():\n",
    "    model = keras.Sequential([\n",
    "        layers.Dense(64, activation=\"relu\"),\n",
    "        layers.Dense(64, activation=\"relu\"),\n",
    "        layers.Dense(1)\n",
    "    ])\n",
    "    model.compile(optimizer=\"rmsprop\",\n",
    "                 loss=\"mse\",\n",
    "                 metrics=[\"mae\"])\n",
    "    return model"
   ]
  },
  {
   "cell_type": "code",
   "execution_count": 15,
   "id": "3b379c47-1539-4da4-b741-1a5921cc171b",
   "metadata": {},
   "outputs": [
    {
     "name": "stdout",
     "output_type": "stream",
     "text": [
      "Processing fold #0\n",
      "Processing fold #1\n",
      "Processing fold #2\n",
      "Processing fold #3\n"
     ]
    }
   ],
   "source": [
    "# K-fold validation\n",
    "k = 4\n",
    "num_val_samples = len(train_data) // k\n",
    "num_epochs = 100\n",
    "all_scores = []\n",
    "for i in range(k):\n",
    "    print(f\"Processing fold #{i}\")\n",
    "    # prepares the validation data: data from partition #k\n",
    "    val_data = train_data[i * num_val_samples:(i + 1) * num_val_samples]\n",
    "    val_targets = train_targets[i * num_val_samples: (i + 1) * num_val_samples]\n",
    "    # prepares the training data: data from all other partitions\n",
    "    partial_train_data = np.concatenate([train_data[:i * num_val_samples],\n",
    "                                         train_data[(i +1 ) * num_val_samples:]],\n",
    "                                        axis=0\n",
    "                                       )\n",
    "    partial_train_targets = np.concatenate([train_targets[:i * num_val_samples],\n",
    "                                         train_targets[(i + 1) * num_val_samples:]],\n",
    "                                           axis=0\n",
    "                                          )\n",
    "    model = build_model() # builds the Keras model (already compiled)\n",
    "    model.fit(partial_train_data, partial_train_targets,\n",
    "             epochs=num_epochs, batch_size=16, verbose=0) # train the model(in silent mode, verbose=0)\n",
    "    val_mse, val_mae = model.evaluate(val_data, val_targets, verbose=0) # evaluate the model on the val data\n",
    "    all_scores.append(val_mae)"
   ]
  },
  {
   "cell_type": "code",
   "execution_count": 16,
   "id": "1fc74822-c5de-4787-8ef0-e098cb72c13c",
   "metadata": {},
   "outputs": [
    {
     "data": {
      "text/plain": [
       "[1.8875246047973633, 2.338747978210449, 2.385051965713501, 2.298783779144287]"
      ]
     },
     "execution_count": 16,
     "metadata": {},
     "output_type": "execute_result"
    }
   ],
   "source": [
    "all_scores"
   ]
  },
  {
   "cell_type": "code",
   "execution_count": 17,
   "id": "fb7c0319-dac4-4dda-9b07-aa9b7e967863",
   "metadata": {},
   "outputs": [
    {
     "data": {
      "text/plain": [
       "2.2275270819664"
      ]
     },
     "execution_count": 17,
     "metadata": {},
     "output_type": "execute_result"
    }
   ],
   "source": [
    "np.mean(all_scores)"
   ]
  },
  {
   "cell_type": "markdown",
   "id": "483a23f1-00f7-4069-aecf-5b527758aefd",
   "metadata": {},
   "source": [
    "As we can see, the validation scores vary from 1.93 to 2.54. \n",
    "\n",
    "Therefore it is much more reliable to consider the average of all scores than any single score, thats the entire point of K-fold cross-validation."
   ]
  },
  {
   "cell_type": "markdown",
   "id": "ea9fa5c8-b5ca-4688-9402-4cf8c47ff1dd",
   "metadata": {},
   "source": [
    "In this case, we are off by `$2400` on average which is significant considering that the prices range from `$5,000` to `$50,000`."
   ]
  },
  {
   "cell_type": "markdown",
   "id": "5ef2ded1-4b18-438e-9144-2601ded28653",
   "metadata": {},
   "source": [
    "Lets train the model a bit longer, by setting `epochs=500`.\n",
    "We will also track model performance per epoch."
   ]
  },
  {
   "cell_type": "code",
   "execution_count": 18,
   "id": "bc49a71f-9de2-476f-b80f-6d820e1a821b",
   "metadata": {},
   "outputs": [
    {
     "name": "stdout",
     "output_type": "stream",
     "text": [
      "Processing fold #0\n",
      "Processing fold #1\n",
      "Processing fold #2\n",
      "Processing fold #3\n"
     ]
    }
   ],
   "source": [
    "num_epochs = 500\n",
    "all_mae_histories = []\n",
    "for i in range(k):\n",
    "    print(f\"Processing fold #{i}\")\n",
    "    # prepares the validation data: data from partition #k\n",
    "    val_data = train_data[i * num_val_samples:(i + 1) * num_val_samples]\n",
    "    val_targets = train_targets[i * num_val_samples: (i + 1) * num_val_samples]\n",
    "    # prepares the training data: data from all other partitions\n",
    "    partial_train_data = np.concatenate([train_data[:i * num_val_samples],\n",
    "                                         train_data[(i + 1) * num_val_samples:]],\n",
    "                                        axis=0\n",
    "                                       )\n",
    "    partial_train_targets = np.concatenate([train_targets[:i * num_val_samples],\n",
    "                                         train_targets[(i + 1) * num_val_samples:]],\n",
    "                                           axis=0\n",
    "                                          )\n",
    "    model = build_model() # builds the Keras model (already compiled)\n",
    "    history = model.fit(partial_train_data, partial_train_targets,\n",
    "                        validation_data=(val_data, val_targets),\n",
    "                        epochs=num_epochs, batch_size=16, verbose=0) # train the model(in silent mode, verbose=0)\n",
    "    mae_history = history.history[\"val_mae\"]\n",
    "    all_mae_histories.append(mae_history)"
   ]
  },
  {
   "cell_type": "code",
   "execution_count": 19,
   "id": "da213e15-67cf-4af0-8de4-89a3b5c8fbc4",
   "metadata": {},
   "outputs": [
    {
     "data": {
      "text/plain": [
       "4"
      ]
     },
     "execution_count": 19,
     "metadata": {},
     "output_type": "execute_result"
    }
   ],
   "source": [
    "len(all_mae_histories)\n",
    "# 4 folds of data, with val_errors per epoch with per fold"
   ]
  },
  {
   "cell_type": "code",
   "execution_count": 20,
   "id": "5e60d6cd-f6f8-4fa1-b186-9eb0ac9ecd5d",
   "metadata": {},
   "outputs": [
    {
     "data": {
      "text/plain": [
       "500"
      ]
     },
     "execution_count": 20,
     "metadata": {},
     "output_type": "execute_result"
    }
   ],
   "source": [
    "len(all_mae_histories[0])"
   ]
  },
  {
   "cell_type": "code",
   "execution_count": 21,
   "id": "425a1306-fec8-4255-a32e-9d2ab7887287",
   "metadata": {},
   "outputs": [],
   "source": [
    "average_mae_history = [\n",
    "    np.mean([x[i] for x in all_mae_histories]) for i in range(num_epochs)]\n",
    "# this gives us the average MAE per epoch considering all folds."
   ]
  },
  {
   "cell_type": "code",
   "execution_count": 22,
   "id": "ebd48198-59f5-4f97-8eb0-d6fab7efdef8",
   "metadata": {},
   "outputs": [
    {
     "data": {
      "text/plain": [
       "500"
      ]
     },
     "execution_count": 22,
     "metadata": {},
     "output_type": "execute_result"
    }
   ],
   "source": [
    "len(average_mae_history)"
   ]
  },
  {
   "cell_type": "code",
   "execution_count": 23,
   "id": "57f89a24-100e-4c6e-8ab8-1c069ff9ace5",
   "metadata": {},
   "outputs": [
    {
     "data": {
      "text/plain": [
       "[19.0461368560791,\n",
       " 15.412515640258789,\n",
       " 11.015793800354004,\n",
       " 7.525450587272644,\n",
       " 5.451468586921692]"
      ]
     },
     "execution_count": 23,
     "metadata": {},
     "output_type": "execute_result"
    }
   ],
   "source": [
    "average_mae_history[:5]"
   ]
  },
  {
   "cell_type": "markdown",
   "id": "774c18f5-636a-4302-8265-1b9952651139",
   "metadata": {},
   "source": [
    "Let us plot average MAE score per epoch Vs epoch:"
   ]
  },
  {
   "cell_type": "code",
   "execution_count": 24,
   "id": "d7b0c631-b587-4204-97f1-f6ae1d09114d",
   "metadata": {},
   "outputs": [
    {
     "data": {
      "image/png": "[encoded data removed]",
      "text/plain": [
       "<Figure size 640x480 with 1 Axes>"
      ]
     },
     "metadata": {},
     "output_type": "display_data"
    }
   ],
   "source": [
    "plt.plot(np.arange(1, num_epochs + 1), average_mae_history)\n",
    "plt.xlabel('Epochs')\n",
    "plt.ylabel('Validation MAE')\n",
    "plt.show()"
   ]
  },
  {
   "cell_type": "markdown",
   "id": "94248137-9e77-4717-a594-2e4788ee5464",
   "metadata": {},
   "source": [
    "Lets omit the first 10 data points as there MAE values are way higher than the rest. "
   ]
  },
  {
   "cell_type": "code",
   "execution_count": 25,
   "id": "72b53f1f-886e-47d1-a551-4687dc4b1c01",
   "metadata": {},
   "outputs": [
    {
     "data": {
      "image/png": "[encoded data removed]",
      "text/plain": [
       "<Figure size 640x480 with 1 Axes>"
      ]
     },
     "metadata": {},
     "output_type": "display_data"
    }
   ],
   "source": [
    "truncated_mae_history = average_mae_history[10:]\n",
    "plt.plot(np.arange(1, len(truncated_mae_history) + 1), truncated_mae_history)\n",
    "plt.xlabel('Epochs')\n",
    "plt.ylabel('Validation MAE')\n",
    "plt.show()"
   ]
  },
  {
   "cell_type": "markdown",
   "id": "de184423-e2a5-4486-a46e-a9e4cd1716a0",
   "metadata": {},
   "source": [
    "Validation MAE stops improving significantly after 120–140 epochs (this number includes the 10 epochs we omitted). Past that point, we start overfitting."
   ]
  },
  {
   "cell_type": "markdown",
   "id": "b6c63401-79b8-4c57-ac07-89e64bce09f5",
   "metadata": {},
   "source": [
    "### Training the final model"
   ]
  },
  {
   "cell_type": "code",
   "execution_count": 31,
   "id": "270d1f6c-4ceb-4252-b5f7-4c2c48fa9809",
   "metadata": {},
   "outputs": [
    {
     "name": "stdout",
     "output_type": "stream",
     "text": [
      "\u001b[1m4/4\u001b[0m \u001b[32m━━━━━━━━━━━━━━━━━━━━\u001b[0m\u001b[37m\u001b[0m \u001b[1m0s\u001b[0m 2ms/step - loss: 12.3463 - mae: 2.4927\n"
     ]
    }
   ],
   "source": [
    "model = build_model()\n",
    "model.fit(train_data, train_targets,\n",
    "         epochs=120, batch_size=16, verbose=0) # training on the entire train set\n",
    "test_mse_score, test_mae_score = model.evaluate(test_data, test_targets)"
   ]
  },
  {
   "cell_type": "code",
   "execution_count": 32,
   "id": "c640949c-c529-4d36-8971-0420854da979",
   "metadata": {},
   "outputs": [
    {
     "data": {
      "text/plain": [
       "2.68200421333313"
      ]
     },
     "execution_count": 32,
     "metadata": {},
     "output_type": "execute_result"
    }
   ],
   "source": [
    "test_mae_score"
   ]
  },
  {
   "cell_type": "markdown",
   "id": "950e2f8b-8c7d-46d3-9500-29f0f8b7d18d",
   "metadata": {},
   "source": [
    "We are off by a bit under $2500."
   ]
  },
  {
   "cell_type": "markdown",
   "id": "344af676-43f0-4ac6-ad7e-f13017f37ff5",
   "metadata": {},
   "source": [
    "**generating predictions on new data:**"
   ]
  },
  {
   "cell_type": "code",
   "execution_count": 28,
   "id": "104d23e8-dc18-444d-8acc-5c27dd738202",
   "metadata": {},
   "outputs": [
    {
     "name": "stdout",
     "output_type": "stream",
     "text": [
      "\u001b[1m4/4\u001b[0m \u001b[32m━━━━━━━━━━━━━━━━━━━━\u001b[0m\u001b[37m\u001b[0m \u001b[1m0s\u001b[0m 8ms/step \n"
     ]
    }
   ],
   "source": [
    "predictions = model.predict(test_data)"
   ]
  },
  {
   "cell_type": "code",
   "execution_count": 29,
   "id": "1001a838-e6e6-42a0-82f5-ded4013c01ab",
   "metadata": {},
   "outputs": [
    {
     "data": {
      "text/plain": [
       "array([[ 8.711067],\n",
       "       [19.56071 ],\n",
       "       [22.218937],\n",
       "       [32.43603 ],\n",
       "       [25.720955]], dtype=float32)"
      ]
     },
     "execution_count": 29,
     "metadata": {},
     "output_type": "execute_result"
    }
   ],
   "source": [
    "predictions[:5]"
   ]
  },
  {
   "cell_type": "code",
   "execution_count": 30,
   "id": "bf8be55d-4adf-4ff8-b2c4-4100a4ea11a8",
   "metadata": {},
   "outputs": [
    {
     "data": {
      "text/plain": [
       "array([ 7.2, 18.8, 19. , 27. , 22.2])"
      ]
     },
     "execution_count": 30,
     "metadata": {},
     "output_type": "execute_result"
    }
   ],
   "source": [
    "test_targets[:5]"
   ]
  }
 ],
 "metadata": {
  "kernelspec": {
   "display_name": "Python 3 (ipykernel)",
   "language": "python",
   "name": "python3"
  },
  "language_info": {
   "codemirror_mode": {
    "name": "ipython",
    "version": 3
   },
   "file_extension": ".py",
   "mimetype": "text/x-python",
   "name": "python",
   "nbconvert_exporter": "python",
   "pygments_lexer": "ipython3",
   "version": "3.9.6"
  }
 },
 "nbformat": 4,
 "nbformat_minor": 5
}
